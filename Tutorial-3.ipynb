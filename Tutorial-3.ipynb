{
 "cells": [
  {
   "cell_type": "markdown",
   "id": "981041c6",
   "metadata": {},
   "source": [
    "# Pyspark Handling Missing Values\n",
    "\n",
    "1. Dropping Columns\n",
    "2. Dropping Rows\n",
    "3. Various Parameter in Dropping functionalities\n",
    "4. Handling missing values by mean, median and mode"
   ]
  },
  {
   "cell_type": "code",
   "execution_count": 5,
   "id": "b1a4a3f9",
   "metadata": {},
   "outputs": [],
   "source": [
    "from pyspark.sql import SparkSession\n",
    "spark = SparkSession.builder.appName('Tut3').getOrCreate()"
   ]
  },
  {
   "cell_type": "code",
   "execution_count": 6,
   "id": "af9b850d",
   "metadata": {},
   "outputs": [
    {
     "data": {
      "text/html": [
       "\n",
       "            <div>\n",
       "                <p><b>SparkSession - in-memory</b></p>\n",
       "                \n",
       "        <div>\n",
       "            <p><b>SparkContext</b></p>\n",
       "\n",
       "            <p><a href=\"http://192.168.0.188:4041\">Spark UI</a></p>\n",
       "\n",
       "            <dl>\n",
       "              <dt>Version</dt>\n",
       "                <dd><code>v3.3.1</code></dd>\n",
       "              <dt>Master</dt>\n",
       "                <dd><code>local[*]</code></dd>\n",
       "              <dt>AppName</dt>\n",
       "                <dd><code>Tut3</code></dd>\n",
       "            </dl>\n",
       "        </div>\n",
       "        \n",
       "            </div>\n",
       "        "
      ],
      "text/plain": [
       "<pyspark.sql.session.SparkSession at 0x7f7928c2c7c0>"
      ]
     },
     "execution_count": 6,
     "metadata": {},
     "output_type": "execute_result"
    }
   ],
   "source": [
    "spark"
   ]
  },
  {
   "cell_type": "code",
   "execution_count": 9,
   "id": "346cfbf3",
   "metadata": {},
   "outputs": [
    {
     "name": "stdout",
     "output_type": "stream",
     "text": [
      "+----------+----+----+-----+\n",
      "|      Name| Age| Exp|  Sal|\n",
      "+----------+----+----+-----+\n",
      "|     Krish|  31|  10|30000|\n",
      "|Shudhanshu|  30|   8|25000|\n",
      "|     Sunny|  29|   4|20000|\n",
      "|      Paul|  24|   3|20000|\n",
      "|    Harsha|  21|   1|15000|\n",
      "|   Shubham|  23|   2|18000|\n",
      "|    Mahesh|null|null|40000|\n",
      "|      null|  34|  10|38000|\n",
      "|      null|  36|null| null|\n",
      "+----------+----+----+-----+\n",
      "\n"
     ]
    }
   ],
   "source": [
    "spark.read.csv('test2.csv',header=True,inferSchema=True).show()"
   ]
  },
  {
   "cell_type": "code",
   "execution_count": 10,
   "id": "63797d99",
   "metadata": {},
   "outputs": [
    {
     "name": "stderr",
     "output_type": "stream",
     "text": [
      "                                                                                \r"
     ]
    }
   ],
   "source": [
    "df_pyspark = spark.read.csv('test2.csv',header=True,inferSchema=True)"
   ]
  },
  {
   "cell_type": "code",
   "execution_count": 11,
   "id": "91b7923c",
   "metadata": {},
   "outputs": [
    {
     "name": "stdout",
     "output_type": "stream",
     "text": [
      "+----------+----+----+-----+\n",
      "|      Name| Age| Exp|  Sal|\n",
      "+----------+----+----+-----+\n",
      "|     Krish|  31|  10|30000|\n",
      "|Shudhanshu|  30|   8|25000|\n",
      "|     Sunny|  29|   4|20000|\n",
      "|      Paul|  24|   3|20000|\n",
      "|    Harsha|  21|   1|15000|\n",
      "|   Shubham|  23|   2|18000|\n",
      "|    Mahesh|null|null|40000|\n",
      "|      null|  34|  10|38000|\n",
      "|      null|  36|null| null|\n",
      "+----------+----+----+-----+\n",
      "\n"
     ]
    }
   ],
   "source": [
    "df_pyspark.show()"
   ]
  },
  {
   "cell_type": "code",
   "execution_count": 12,
   "id": "e68083a0",
   "metadata": {},
   "outputs": [
    {
     "name": "stdout",
     "output_type": "stream",
     "text": [
      "+----+----+-----+\n",
      "| Age| Exp|  Sal|\n",
      "+----+----+-----+\n",
      "|  31|  10|30000|\n",
      "|  30|   8|25000|\n",
      "|  29|   4|20000|\n",
      "|  24|   3|20000|\n",
      "|  21|   1|15000|\n",
      "|  23|   2|18000|\n",
      "|null|null|40000|\n",
      "|  34|  10|38000|\n",
      "|  36|null| null|\n",
      "+----+----+-----+\n",
      "\n"
     ]
    },
    {
     "name": "stderr",
     "output_type": "stream",
     "text": [
      "\r",
      "[Stage 9:===========================================================(1 + 0) / 1]\r",
      "\r",
      "                                                                                \r"
     ]
    }
   ],
   "source": [
    "###Drop the columns\n",
    "\n",
    "df_pyspark.drop('Name').show()"
   ]
  },
  {
   "cell_type": "code",
   "execution_count": 14,
   "id": "6753b5ba",
   "metadata": {},
   "outputs": [
    {
     "name": "stdout",
     "output_type": "stream",
     "text": [
      "+----------+---+---+-----+\n",
      "|      Name|Age|Exp|  Sal|\n",
      "+----------+---+---+-----+\n",
      "|     Krish| 31| 10|30000|\n",
      "|Shudhanshu| 30|  8|25000|\n",
      "|     Sunny| 29|  4|20000|\n",
      "|      Paul| 24|  3|20000|\n",
      "|    Harsha| 21|  1|15000|\n",
      "|   Shubham| 23|  2|18000|\n",
      "+----------+---+---+-----+\n",
      "\n"
     ]
    }
   ],
   "source": [
    "#All Null Values dropped\n",
    "## na - null\n",
    "\n",
    "df_pyspark.na.drop().show()"
   ]
  },
  {
   "cell_type": "code",
   "execution_count": 17,
   "id": "29f8c57d",
   "metadata": {},
   "outputs": [
    {
     "name": "stdout",
     "output_type": "stream",
     "text": [
      "+----------+---+---+-----+\n",
      "|      Name|Age|Exp|  Sal|\n",
      "+----------+---+---+-----+\n",
      "|     Krish| 31| 10|30000|\n",
      "|Shudhanshu| 30|  8|25000|\n",
      "|     Sunny| 29|  4|20000|\n",
      "|      Paul| 24|  3|20000|\n",
      "|    Harsha| 21|  1|15000|\n",
      "|   Shubham| 23|  2|18000|\n",
      "+----------+---+---+-----+\n",
      "\n"
     ]
    }
   ],
   "source": [
    "##any = how\n",
    "## how = all, even one null value\n",
    "## how=any, any null value dropped\n",
    "df_pyspark.na.drop(how = \"any\").show()"
   ]
  },
  {
   "cell_type": "code",
   "execution_count": 18,
   "id": "fb039c7a",
   "metadata": {},
   "outputs": [
    {
     "name": "stdout",
     "output_type": "stream",
     "text": [
      "+----------+----+----+-----+\n",
      "|      Name| Age| Exp|  Sal|\n",
      "+----------+----+----+-----+\n",
      "|     Krish|  31|  10|30000|\n",
      "|Shudhanshu|  30|   8|25000|\n",
      "|     Sunny|  29|   4|20000|\n",
      "|      Paul|  24|   3|20000|\n",
      "|    Harsha|  21|   1|15000|\n",
      "|   Shubham|  23|   2|18000|\n",
      "|    Mahesh|null|null|40000|\n",
      "|      null|  34|  10|38000|\n",
      "+----------+----+----+-----+\n",
      "\n"
     ]
    }
   ],
   "source": [
    "##threshold\n",
    "##\n",
    "df_pyspark.na.drop(how = \"any\", thresh=2).show()"
   ]
  },
  {
   "cell_type": "code",
   "execution_count": 19,
   "id": "ad0cf328",
   "metadata": {},
   "outputs": [
    {
     "name": "stdout",
     "output_type": "stream",
     "text": [
      "+----------+---+---+-----+\n",
      "|      Name|Age|Exp|  Sal|\n",
      "+----------+---+---+-----+\n",
      "|     Krish| 31| 10|30000|\n",
      "|Shudhanshu| 30|  8|25000|\n",
      "|     Sunny| 29|  4|20000|\n",
      "|      Paul| 24|  3|20000|\n",
      "|    Harsha| 21|  1|15000|\n",
      "|   Shubham| 23|  2|18000|\n",
      "|      null| 34| 10|38000|\n",
      "+----------+---+---+-----+\n",
      "\n"
     ]
    }
   ],
   "source": [
    "##Subset\n",
    "##Remove null values in a particular colunm\n",
    "\n",
    "df_pyspark.na.drop(how = \"any\", subset=['Exp']).show()"
   ]
  },
  {
   "cell_type": "code",
   "execution_count": 11,
   "id": "dd1e8734",
   "metadata": {},
   "outputs": [
    {
     "name": "stdout",
     "output_type": "stream",
     "text": [
      "+----------+----+----+-----+\n",
      "|      Name| Age| Exp|  Sal|\n",
      "+----------+----+----+-----+\n",
      "|     Krish|  31|  10|30000|\n",
      "|Shudhanshu|  30|   8|25000|\n",
      "|     Sunny|  29|   4|20000|\n",
      "|      Paul|  24|   3|20000|\n",
      "|    Harsha|  21|   1|15000|\n",
      "|   Shubham|  23|   2|18000|\n",
      "|    Mahesh|null|null|40000|\n",
      "|      null|  34|  10|38000|\n",
      "|      null|  36|null| null|\n",
      "+----------+----+----+-----+\n",
      "\n"
     ]
    }
   ],
   "source": [
    "### Filling the missing values\n",
    "\n",
    "df_pyspark.na.fill('Missing Values', ['Exp', 'Age']).show()"
   ]
  },
  {
   "cell_type": "code",
   "execution_count": 8,
   "id": "4fecab6d",
   "metadata": {},
   "outputs": [],
   "source": [
    "from pyspark.sql import SparkSession\n",
    "spark = SparkSession.builder.appName('Tut3').getOrCreate()"
   ]
  },
  {
   "cell_type": "code",
   "execution_count": 6,
   "id": "979347c2",
   "metadata": {},
   "outputs": [
    {
     "data": {
      "text/html": [
       "\n",
       "            <div>\n",
       "                <p><b>SparkSession - in-memory</b></p>\n",
       "                \n",
       "        <div>\n",
       "            <p><b>SparkContext</b></p>\n",
       "\n",
       "            <p><a href=\"http://192.168.139.181:4040\">Spark UI</a></p>\n",
       "\n",
       "            <dl>\n",
       "              <dt>Version</dt>\n",
       "                <dd><code>v3.3.1</code></dd>\n",
       "              <dt>Master</dt>\n",
       "                <dd><code>local[*]</code></dd>\n",
       "              <dt>AppName</dt>\n",
       "                <dd><code>Tut3</code></dd>\n",
       "            </dl>\n",
       "        </div>\n",
       "        \n",
       "            </div>\n",
       "        "
      ],
      "text/plain": [
       "<pyspark.sql.session.SparkSession at 0x7fdb493266d0>"
      ]
     },
     "execution_count": 6,
     "metadata": {},
     "output_type": "execute_result"
    }
   ],
   "source": [
    "spark"
   ]
  },
  {
   "cell_type": "code",
   "execution_count": 12,
   "id": "d4ddec0c",
   "metadata": {},
   "outputs": [
    {
     "name": "stdout",
     "output_type": "stream",
     "text": [
      "+----------+----+----+-----+\n",
      "|      Name| Age| Exp|  Sal|\n",
      "+----------+----+----+-----+\n",
      "|     Krish|  31|  10|30000|\n",
      "|Shudhanshu|  30|   8|25000|\n",
      "|     Sunny|  29|   4|20000|\n",
      "|      Paul|  24|   3|20000|\n",
      "|    Harsha|  21|   1|15000|\n",
      "|   Shubham|  23|   2|18000|\n",
      "|    Mahesh|null|null|40000|\n",
      "|      null|  34|  10|38000|\n",
      "|      null|  36|null| null|\n",
      "+----------+----+----+-----+\n",
      "\n"
     ]
    }
   ],
   "source": [
    "df_pyspark.show()\n"
   ]
  },
  {
   "cell_type": "code",
   "execution_count": 13,
   "id": "058660fc",
   "metadata": {},
   "outputs": [],
   "source": [
    "from pyspark.ml.feature import Imputer\n",
    "\n",
    "Imputer = Imputer(\n",
    "inputCols=['age', 'Exp', 'Sal'],\n",
    "    outputCols=[\"{}_imputed\".format(c) for c in ['age', 'Exp', 'Sal']]\n",
    "\n",
    ")"
   ]
  },
  {
   "cell_type": "code",
   "execution_count": 16,
   "id": "03c8c5e9",
   "metadata": {},
   "outputs": [],
   "source": [
    "import pandas"
   ]
  },
  {
   "cell_type": "code",
   "execution_count": null,
   "id": "fd485773",
   "metadata": {},
   "outputs": [],
   "source": []
  }
 ],
 "metadata": {
  "kernelspec": {
   "display_name": "Python 3 (ipykernel)",
   "language": "python",
   "name": "python3"
  },
  "language_info": {
   "codemirror_mode": {
    "name": "ipython",
    "version": 3
   },
   "file_extension": ".py",
   "mimetype": "text/x-python",
   "name": "python",
   "nbconvert_exporter": "python",
   "pygments_lexer": "ipython3",
   "version": "3.9.13"
  }
 },
 "nbformat": 4,
 "nbformat_minor": 5
}
