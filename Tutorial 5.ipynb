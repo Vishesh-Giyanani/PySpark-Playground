{
 "cells": [
  {
   "cell_type": "markdown",
   "id": "cf7f9715",
   "metadata": {},
   "source": [
    "# Pyspark GroupBy And Aggregate Functions\n"
   ]
  },
  {
   "cell_type": "code",
   "execution_count": 1,
   "id": "ef7c537f",
   "metadata": {},
   "outputs": [],
   "source": [
    "from pyspark.sql import SparkSession"
   ]
  },
  {
   "cell_type": "code",
   "execution_count": 2,
   "id": "998d2aae",
   "metadata": {},
   "outputs": [
    {
     "name": "stdout",
     "output_type": "stream",
     "text": [
      "23/01/02 14:20:03 WARN Utils: Your hostname, Visheshs-MacBook-Air.local resolves to a loopback address: 127.0.0.1; using 192.168.139.181 instead (on interface en0)\n",
      "23/01/02 14:20:03 WARN Utils: Set SPARK_LOCAL_IP if you need to bind to another address\n"
     ]
    },
    {
     "name": "stderr",
     "output_type": "stream",
     "text": [
      "Setting default log level to \"WARN\".\n",
      "To adjust logging level use sc.setLogLevel(newLevel). For SparkR, use setLogLevel(newLevel).\n"
     ]
    },
    {
     "name": "stdout",
     "output_type": "stream",
     "text": [
      "23/01/02 14:20:04 WARN NativeCodeLoader: Unable to load native-hadoop library for your platform... using builtin-java classes where applicable\n",
      "23/01/02 14:20:06 WARN Utils: Service 'SparkUI' could not bind on port 4040. Attempting port 4041.\n",
      "23/01/02 14:20:06 WARN Utils: Service 'SparkUI' could not bind on port 4041. Attempting port 4042.\n"
     ]
    }
   ],
   "source": [
    "spark = SparkSession.builder.appName('tut5').getOrCreate()"
   ]
  },
  {
   "cell_type": "code",
   "execution_count": 3,
   "id": "f0b55d7d",
   "metadata": {},
   "outputs": [
    {
     "data": {
      "text/html": [
       "\n",
       "            <div>\n",
       "                <p><b>SparkSession - in-memory</b></p>\n",
       "                \n",
       "        <div>\n",
       "            <p><b>SparkContext</b></p>\n",
       "\n",
       "            <p><a href=\"http://192.168.139.181:4042\">Spark UI</a></p>\n",
       "\n",
       "            <dl>\n",
       "              <dt>Version</dt>\n",
       "                <dd><code>v3.3.1</code></dd>\n",
       "              <dt>Master</dt>\n",
       "                <dd><code>local[*]</code></dd>\n",
       "              <dt>AppName</dt>\n",
       "                <dd><code>tut5</code></dd>\n",
       "            </dl>\n",
       "        </div>\n",
       "        \n",
       "            </div>\n",
       "        "
      ],
      "text/plain": [
       "<pyspark.sql.session.SparkSession at 0x7f9198b2ae50>"
      ]
     },
     "execution_count": 3,
     "metadata": {},
     "output_type": "execute_result"
    }
   ],
   "source": [
    "spark\n"
   ]
  },
  {
   "cell_type": "code",
   "execution_count": 6,
   "id": "6c988049",
   "metadata": {},
   "outputs": [
    {
     "name": "stdout",
     "output_type": "stream",
     "text": [
      "+---------+------------+-----+\n",
      "|     Name|         Dep|  Sal|\n",
      "+---------+------------+-----+\n",
      "|    Krish|Data Science|10000|\n",
      "|    Krish|         IOT| 5000|\n",
      "|   Mahesh|    Big Data| 4000|\n",
      "|    Krish|    Big Data| 4000|\n",
      "|   Mahesh|Data Science| 3000|\n",
      "|Sudhanshu|Data Science|20000|\n",
      "|Sudhanshu|         IOT|10000|\n",
      "|Sudhanshu|    Big Data| 5000|\n",
      "|    Sunny|Data Science|10000|\n",
      "|    Sunny|    Big Data| 2000|\n",
      "+---------+------------+-----+\n",
      "\n"
     ]
    }
   ],
   "source": [
    "df_pyspark = spark.read.csv('test5.csv', header=True, inferSchema = True)\n",
    "df_pyspark.show()                          \n",
    "                           \n",
    "                           "
   ]
  },
  {
   "cell_type": "code",
   "execution_count": 7,
   "id": "4662b80e",
   "metadata": {},
   "outputs": [
    {
     "name": "stdout",
     "output_type": "stream",
     "text": [
      "+---------+------------+-----+\n",
      "|     Name|         Dep|  Sal|\n",
      "+---------+------------+-----+\n",
      "|    Krish|Data Science|10000|\n",
      "|    Krish|         IOT| 5000|\n",
      "|   Mahesh|    Big Data| 4000|\n",
      "|    Krish|    Big Data| 4000|\n",
      "|   Mahesh|Data Science| 3000|\n",
      "|Sudhanshu|         IOT|10000|\n",
      "|Sudhanshu|    Big Data| 5000|\n",
      "|    Sunny|Data Science|10000|\n",
      "+---------+------------+-----+\n",
      "\n"
     ]
    }
   ],
   "source": [
    "df_pyspark.filter((df_pyspark['Sal']>=3000) &\n",
    "                  (df_pyspark['Sal']<=10000)).show()"
   ]
  },
  {
   "cell_type": "code",
   "execution_count": 14,
   "id": "2c058021",
   "metadata": {},
   "outputs": [
    {
     "name": "stdout",
     "output_type": "stream",
     "text": [
      "+-----+\n",
      "| Name|\n",
      "+-----+\n",
      "|Sunny|\n",
      "+-----+\n",
      "\n"
     ]
    }
   ],
   "source": [
    "df_pyspark.filter('Sal=2000').select(['Name']).show()"
   ]
  },
  {
   "cell_type": "code",
   "execution_count": 21,
   "id": "debe92e9",
   "metadata": {},
   "outputs": [
    {
     "name": "stdout",
     "output_type": "stream",
     "text": [
      "+---------+--------+\n",
      "|     Name|sum(Sal)|\n",
      "+---------+--------+\n",
      "|Sudhanshu|   35000|\n",
      "|    Sunny|   12000|\n",
      "|    Krish|   19000|\n",
      "|   Mahesh|    7000|\n",
      "+---------+--------+\n",
      "\n"
     ]
    }
   ],
   "source": [
    "## Groupby\n",
    "## Grouped to find the maximum salary\n",
    "\n",
    "df_pyspark.groupBy('Name').sum('Sal').show()"
   ]
  },
  {
   "cell_type": "code",
   "execution_count": 28,
   "id": "7855a673",
   "metadata": {},
   "outputs": [
    {
     "name": "stdout",
     "output_type": "stream",
     "text": [
      "+------------+--------+\n",
      "|         Dep|avg(Sal)|\n",
      "+------------+--------+\n",
      "|         IOT|  7500.0|\n",
      "|    Big Data|  3750.0|\n",
      "|Data Science| 10750.0|\n",
      "+------------+--------+\n",
      "\n"
     ]
    }
   ],
   "source": [
    "### Groupby departments to check who gives max salary\n",
    "\n",
    "\n",
    "df_pyspark.groupBy('Dep').mean('Sal').show()"
   ]
  },
  {
   "cell_type": "code",
   "execution_count": 30,
   "id": "024b6e11",
   "metadata": {},
   "outputs": [
    {
     "name": "stdout",
     "output_type": "stream",
     "text": [
      "+------------+-----+\n",
      "|         Dep|count|\n",
      "+------------+-----+\n",
      "|         IOT|    2|\n",
      "|    Big Data|    4|\n",
      "|Data Science|    4|\n",
      "+------------+-----+\n",
      "\n"
     ]
    }
   ],
   "source": [
    "df_pyspark.groupBy('Dep').count().show()\n"
   ]
  },
  {
   "cell_type": "code",
   "execution_count": null,
   "id": "35cb483c",
   "metadata": {},
   "outputs": [],
   "source": []
  }
 ],
 "metadata": {
  "kernelspec": {
   "display_name": "Python 3 (ipykernel)",
   "language": "python",
   "name": "python3"
  },
  "language_info": {
   "codemirror_mode": {
    "name": "ipython",
    "version": 3
   },
   "file_extension": ".py",
   "mimetype": "text/x-python",
   "name": "python",
   "nbconvert_exporter": "python",
   "pygments_lexer": "ipython3",
   "version": "3.9.13"
  }
 },
 "nbformat": 4,
 "nbformat_minor": 5
}
